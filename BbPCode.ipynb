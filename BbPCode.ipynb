{
 "cells": [
  {
   "cell_type": "markdown",
   "id": "fb923032-042a-45ea-9ede-489b1964e9d4",
   "metadata": {
    "jp-MarkdownHeadingCollapsed": true,
    "tags": []
   },
   "source": [
    "# Requirements"
   ]
  },
  {
   "cell_type": "code",
   "execution_count": 1,
   "id": "c35ea695-5ce9-447b-8b52-eae05d033376",
   "metadata": {
    "tags": []
   },
   "outputs": [
    {
     "name": "stdout",
     "output_type": "stream",
     "text": [
      "Requirement already satisfied: catboost in c:\\users\\megha\\appdata\\roaming\\python\\python311\\site-packages (1.2.7)\n",
      "Requirement already satisfied: graphviz in c:\\users\\megha\\appdata\\roaming\\python\\python311\\site-packages (from catboost) (0.20.3)\n",
      "Requirement already satisfied: matplotlib in c:\\users\\megha\\appdata\\roaming\\python\\python311\\site-packages (from catboost) (3.8.3)\n",
      "Requirement already satisfied: numpy<2.0,>=1.16.0 in c:\\users\\megha\\appdata\\roaming\\python\\python311\\site-packages (from catboost) (1.25.2)\n",
      "Requirement already satisfied: pandas>=0.24 in c:\\users\\megha\\appdata\\roaming\\python\\python311\\site-packages (from catboost) (1.5.3)\n",
      "Requirement already satisfied: scipy in c:\\users\\megha\\appdata\\roaming\\python\\python311\\site-packages (from catboost) (1.12.0)\n",
      "Requirement already satisfied: plotly in c:\\users\\megha\\appdata\\roaming\\python\\python311\\site-packages (from catboost) (5.24.1)\n",
      "Requirement already satisfied: six in c:\\users\\megha\\appdata\\roaming\\python\\python311\\site-packages (from catboost) (1.16.0)\n",
      "Requirement already satisfied: python-dateutil>=2.8.1 in c:\\users\\megha\\appdata\\roaming\\python\\python311\\site-packages (from pandas>=0.24->catboost) (2.8.2)\n",
      "Requirement already satisfied: pytz>=2020.1 in c:\\users\\megha\\appdata\\roaming\\python\\python311\\site-packages (from pandas>=0.24->catboost) (2024.1)\n",
      "Requirement already satisfied: contourpy>=1.0.1 in c:\\users\\megha\\appdata\\roaming\\python\\python311\\site-packages (from matplotlib->catboost) (1.2.0)\n",
      "Requirement already satisfied: cycler>=0.10 in c:\\users\\megha\\appdata\\roaming\\python\\python311\\site-packages (from matplotlib->catboost) (0.12.1)\n",
      "Requirement already satisfied: fonttools>=4.22.0 in c:\\users\\megha\\appdata\\roaming\\python\\python311\\site-packages (from matplotlib->catboost) (4.49.0)\n",
      "Requirement already satisfied: kiwisolver>=1.3.1 in c:\\users\\megha\\appdata\\roaming\\python\\python311\\site-packages (from matplotlib->catboost) (1.4.5)\n",
      "Requirement already satisfied: packaging>=20.0 in c:\\users\\megha\\appdata\\roaming\\python\\python311\\site-packages (from matplotlib->catboost) (23.1)\n",
      "Requirement already satisfied: pillow>=8 in c:\\users\\megha\\appdata\\roaming\\python\\python311\\site-packages (from matplotlib->catboost) (10.2.0)\n",
      "Requirement already satisfied: pyparsing>=2.3.1 in c:\\users\\megha\\appdata\\roaming\\python\\python311\\site-packages (from matplotlib->catboost) (3.1.1)\n",
      "Requirement already satisfied: tenacity>=6.2.0 in c:\\users\\megha\\appdata\\roaming\\python\\python311\\site-packages (from plotly->catboost) (9.0.0)\n"
     ]
    },
    {
     "name": "stderr",
     "output_type": "stream",
     "text": [
      "\n",
      "[notice] A new release of pip is available: 24.0 -> 24.2\n",
      "[notice] To update, run: python.exe -m pip install --upgrade pip\n"
     ]
    }
   ],
   "source": [
    "!pip install catboost"
   ]
  },
  {
   "cell_type": "code",
   "execution_count": 2,
   "id": "6b7b59ab-6f4d-49dd-bf19-5122c31a002a",
   "metadata": {
    "tags": []
   },
   "outputs": [],
   "source": [
    "import pandas as pd\n",
    "import numpy as np\n",
    "import matplotlib.pyplot as plt\n",
    "from catboost import CatBoostRegressor\n",
    "import pickle\n",
    "from sklearn.model_selection import train_test_split\n",
    "from sklearn.metrics import mean_squared_error, r2_score"
   ]
  },
  {
   "cell_type": "markdown",
   "id": "2a2396e1-49df-4ba3-bc3a-da6ed8d2e927",
   "metadata": {
    "jp-MarkdownHeadingCollapsed": true,
    "tags": []
   },
   "source": [
    "# Data Loading and Transformations"
   ]
  },
  {
   "cell_type": "code",
   "execution_count": 3,
   "id": "91f37701-f64d-4c2d-a400-6309ad14bd2c",
   "metadata": {
    "tags": []
   },
   "outputs": [
    {
     "data": {
      "text/html": [
       "<div>\n",
       "<style scoped>\n",
       "    .dataframe tbody tr th:only-of-type {\n",
       "        vertical-align: middle;\n",
       "    }\n",
       "\n",
       "    .dataframe tbody tr th {\n",
       "        vertical-align: top;\n",
       "    }\n",
       "\n",
       "    .dataframe thead th {\n",
       "        text-align: right;\n",
       "    }\n",
       "</style>\n",
       "<table border=\"1\" class=\"dataframe\">\n",
       "  <thead>\n",
       "    <tr style=\"text-align: right;\">\n",
       "      <th></th>\n",
       "      <th>Game Code</th>\n",
       "      <th>Game</th>\n",
       "      <th>SEC</th>\n",
       "      <th>Year</th>\n",
       "      <th>Day</th>\n",
       "      <th>Date</th>\n",
       "      <th>Game Time</th>\n",
       "      <th>MSU Win?</th>\n",
       "      <th>Box Office Total</th>\n",
       "      <th>Actual Scan Total</th>\n",
       "      <th>Revenue</th>\n",
       "      <th>Price Per Ticket</th>\n",
       "      <th>% used of tickets out</th>\n",
       "      <th>Weather</th>\n",
       "      <th>Temperature in F</th>\n",
       "    </tr>\n",
       "  </thead>\n",
       "  <tbody>\n",
       "    <tr>\n",
       "      <th>0</th>\n",
       "      <td>B1401</td>\n",
       "      <td>Western Carolina</td>\n",
       "      <td>No</td>\n",
       "      <td>2014</td>\n",
       "      <td>Friday</td>\n",
       "      <td>2014-02-14</td>\n",
       "      <td>18:30:00</td>\n",
       "      <td>Lost</td>\n",
       "      <td>6455</td>\n",
       "      <td>2663</td>\n",
       "      <td>14325.0</td>\n",
       "      <td>5</td>\n",
       "      <td>0.412548</td>\n",
       "      <td>Rainy</td>\n",
       "      <td>48</td>\n",
       "    </tr>\n",
       "    <tr>\n",
       "      <th>1</th>\n",
       "      <td>B1402</td>\n",
       "      <td>Western Carolina</td>\n",
       "      <td>No</td>\n",
       "      <td>2014</td>\n",
       "      <td>Saturday</td>\n",
       "      <td>2014-02-15</td>\n",
       "      <td>16:00:00</td>\n",
       "      <td>Won</td>\n",
       "      <td>7282</td>\n",
       "      <td>4821</td>\n",
       "      <td>18040.0</td>\n",
       "      <td>4</td>\n",
       "      <td>0.662043</td>\n",
       "      <td>Sunny</td>\n",
       "      <td>45</td>\n",
       "    </tr>\n",
       "  </tbody>\n",
       "</table>\n",
       "</div>"
      ],
      "text/plain": [
       "  Game Code              Game SEC  Year       Day       Date Game Time  \\\n",
       "0     B1401  Western Carolina  No  2014    Friday 2014-02-14  18:30:00   \n",
       "1     B1402  Western Carolina  No  2014  Saturday 2014-02-15  16:00:00   \n",
       "\n",
       "  MSU Win?  Box Office Total  Actual Scan Total  Revenue  Price Per Ticket  \\\n",
       "0     Lost              6455               2663  14325.0                 5   \n",
       "1      Won              7282               4821  18040.0                 4   \n",
       "\n",
       "   % used of tickets out Weather  Temperature in F  \n",
       "0               0.412548   Rainy                48  \n",
       "1               0.662043   Sunny                45  "
      ]
     },
     "execution_count": 3,
     "metadata": {},
     "output_type": "execute_result"
    }
   ],
   "source": [
    "#reading the data from from excel file into a data frame and printing it\n",
    "\n",
    "df = pd.read_excel('Baseball_Dataset.xlsx')\n",
    "df.head(2)"
   ]
  },
  {
   "cell_type": "code",
   "execution_count": 4,
   "id": "a50b7458-b4f3-450f-a488-6a352f86bb5b",
   "metadata": {
    "tags": []
   },
   "outputs": [
    {
     "data": {
      "text/plain": [
       "(266, 15)"
      ]
     },
     "execution_count": 4,
     "metadata": {},
     "output_type": "execute_result"
    }
   ],
   "source": [
    "#gives no.of rows, no.of columns\n",
    "\n",
    "df.shape"
   ]
  },
  {
   "cell_type": "code",
   "execution_count": 5,
   "id": "ecd4d5b1-cf36-4e86-810b-573df63207ec",
   "metadata": {
    "tags": []
   },
   "outputs": [
    {
     "name": "stdout",
     "output_type": "stream",
     "text": [
      "<class 'pandas.core.frame.DataFrame'>\n",
      "RangeIndex: 266 entries, 0 to 265\n",
      "Data columns (total 15 columns):\n",
      " #   Column                 Non-Null Count  Dtype         \n",
      "---  ------                 --------------  -----         \n",
      " 0   Game Code              266 non-null    object        \n",
      " 1   Game                   266 non-null    object        \n",
      " 2   SEC                    266 non-null    object        \n",
      " 3   Year                   266 non-null    int64         \n",
      " 4   Day                    266 non-null    object        \n",
      " 5   Date                   266 non-null    datetime64[ns]\n",
      " 6   Game Time              266 non-null    object        \n",
      " 7   MSU Win?               266 non-null    object        \n",
      " 8   Box Office Total       266 non-null    int64         \n",
      " 9   Actual Scan Total      266 non-null    int64         \n",
      " 10  Revenue                266 non-null    float64       \n",
      " 11  Price Per Ticket       266 non-null    int64         \n",
      " 12  % used of tickets out  266 non-null    float64       \n",
      " 13  Weather                266 non-null    object        \n",
      " 14  Temperature in F       266 non-null    int64         \n",
      "dtypes: datetime64[ns](1), float64(2), int64(5), object(7)\n",
      "memory usage: 31.3+ KB\n"
     ]
    }
   ],
   "source": [
    "#info() gives the datatype of each column and the count of non-null values in the dataset\n",
    "\n",
    "df.info()"
   ]
  },
  {
   "cell_type": "code",
   "execution_count": 6,
   "id": "e1c84f90-bc90-47c5-b107-b6126c99e8f3",
   "metadata": {
    "tags": []
   },
   "outputs": [
    {
     "data": {
      "text/html": [
       "<div>\n",
       "<style scoped>\n",
       "    .dataframe tbody tr th:only-of-type {\n",
       "        vertical-align: middle;\n",
       "    }\n",
       "\n",
       "    .dataframe tbody tr th {\n",
       "        vertical-align: top;\n",
       "    }\n",
       "\n",
       "    .dataframe thead th {\n",
       "        text-align: right;\n",
       "    }\n",
       "</style>\n",
       "<table border=\"1\" class=\"dataframe\">\n",
       "  <thead>\n",
       "    <tr style=\"text-align: right;\">\n",
       "      <th></th>\n",
       "      <th>Year</th>\n",
       "      <th>Box Office Total</th>\n",
       "      <th>Actual Scan Total</th>\n",
       "      <th>Revenue</th>\n",
       "      <th>Price Per Ticket</th>\n",
       "      <th>% used of tickets out</th>\n",
       "      <th>Temperature in F</th>\n",
       "    </tr>\n",
       "  </thead>\n",
       "  <tbody>\n",
       "    <tr>\n",
       "      <th>count</th>\n",
       "      <td>266.000000</td>\n",
       "      <td>266.000000</td>\n",
       "      <td>266.000000</td>\n",
       "      <td>266.000000</td>\n",
       "      <td>266.000000</td>\n",
       "      <td>266.000000</td>\n",
       "      <td>266.000000</td>\n",
       "    </tr>\n",
       "    <tr>\n",
       "      <th>mean</th>\n",
       "      <td>2018.691729</td>\n",
       "      <td>10294.101504</td>\n",
       "      <td>3962.007519</td>\n",
       "      <td>54997.407707</td>\n",
       "      <td>15.500000</td>\n",
       "      <td>0.393966</td>\n",
       "      <td>65.860902</td>\n",
       "    </tr>\n",
       "    <tr>\n",
       "      <th>std</th>\n",
       "      <td>3.469937</td>\n",
       "      <td>4404.183707</td>\n",
       "      <td>2619.092198</td>\n",
       "      <td>40934.402441</td>\n",
       "      <td>9.649812</td>\n",
       "      <td>0.212493</td>\n",
       "      <td>12.354489</td>\n",
       "    </tr>\n",
       "    <tr>\n",
       "      <th>min</th>\n",
       "      <td>2014.000000</td>\n",
       "      <td>4294.000000</td>\n",
       "      <td>281.000000</td>\n",
       "      <td>4160.000000</td>\n",
       "      <td>1.000000</td>\n",
       "      <td>0.049126</td>\n",
       "      <td>30.000000</td>\n",
       "    </tr>\n",
       "    <tr>\n",
       "      <th>25%</th>\n",
       "      <td>2016.000000</td>\n",
       "      <td>6528.750000</td>\n",
       "      <td>2035.250000</td>\n",
       "      <td>22291.000000</td>\n",
       "      <td>9.250000</td>\n",
       "      <td>0.219301</td>\n",
       "      <td>60.000000</td>\n",
       "    </tr>\n",
       "    <tr>\n",
       "      <th>50%</th>\n",
       "      <td>2018.000000</td>\n",
       "      <td>7947.000000</td>\n",
       "      <td>3395.500000</td>\n",
       "      <td>40062.865000</td>\n",
       "      <td>14.000000</td>\n",
       "      <td>0.359952</td>\n",
       "      <td>70.000000</td>\n",
       "    </tr>\n",
       "    <tr>\n",
       "      <th>75%</th>\n",
       "      <td>2022.000000</td>\n",
       "      <td>15077.750000</td>\n",
       "      <td>5354.250000</td>\n",
       "      <td>79495.400000</td>\n",
       "      <td>19.000000</td>\n",
       "      <td>0.542435</td>\n",
       "      <td>75.000000</td>\n",
       "    </tr>\n",
       "    <tr>\n",
       "      <th>max</th>\n",
       "      <td>2024.000000</td>\n",
       "      <td>19997.000000</td>\n",
       "      <td>16891.000000</td>\n",
       "      <td>256307.000000</td>\n",
       "      <td>70.000000</td>\n",
       "      <td>0.986427</td>\n",
       "      <td>90.000000</td>\n",
       "    </tr>\n",
       "  </tbody>\n",
       "</table>\n",
       "</div>"
      ],
      "text/plain": [
       "              Year  Box Office Total  Actual Scan Total        Revenue  \\\n",
       "count   266.000000        266.000000         266.000000     266.000000   \n",
       "mean   2018.691729      10294.101504        3962.007519   54997.407707   \n",
       "std       3.469937       4404.183707        2619.092198   40934.402441   \n",
       "min    2014.000000       4294.000000         281.000000    4160.000000   \n",
       "25%    2016.000000       6528.750000        2035.250000   22291.000000   \n",
       "50%    2018.000000       7947.000000        3395.500000   40062.865000   \n",
       "75%    2022.000000      15077.750000        5354.250000   79495.400000   \n",
       "max    2024.000000      19997.000000       16891.000000  256307.000000   \n",
       "\n",
       "       Price Per Ticket  % used of tickets out  Temperature in F  \n",
       "count        266.000000             266.000000        266.000000  \n",
       "mean          15.500000               0.393966         65.860902  \n",
       "std            9.649812               0.212493         12.354489  \n",
       "min            1.000000               0.049126         30.000000  \n",
       "25%            9.250000               0.219301         60.000000  \n",
       "50%           14.000000               0.359952         70.000000  \n",
       "75%           19.000000               0.542435         75.000000  \n",
       "max           70.000000               0.986427         90.000000  "
      ]
     },
     "execution_count": 6,
     "metadata": {},
     "output_type": "execute_result"
    }
   ],
   "source": [
    "#describe() give the overall stats of the dataset \n",
    "\n",
    "df.describe()"
   ]
  },
  {
   "cell_type": "code",
   "execution_count": 7,
   "id": "d183daa3-5608-47ff-b583-f136116fa094",
   "metadata": {
    "tags": []
   },
   "outputs": [
    {
     "name": "stderr",
     "output_type": "stream",
     "text": [
      "C:\\Users\\megha\\AppData\\Local\\Temp\\ipykernel_24760\\448477274.py:3: FutureWarning: The default value of numeric_only in DataFrame.corr is deprecated. In a future version, it will default to False. Select only valid columns or specify the value of numeric_only to silence this warning.\n",
      "  df.corr()\n"
     ]
    },
    {
     "data": {
      "text/html": [
       "<div>\n",
       "<style scoped>\n",
       "    .dataframe tbody tr th:only-of-type {\n",
       "        vertical-align: middle;\n",
       "    }\n",
       "\n",
       "    .dataframe tbody tr th {\n",
       "        vertical-align: top;\n",
       "    }\n",
       "\n",
       "    .dataframe thead th {\n",
       "        text-align: right;\n",
       "    }\n",
       "</style>\n",
       "<table border=\"1\" class=\"dataframe\">\n",
       "  <thead>\n",
       "    <tr style=\"text-align: right;\">\n",
       "      <th></th>\n",
       "      <th>Year</th>\n",
       "      <th>Box Office Total</th>\n",
       "      <th>Actual Scan Total</th>\n",
       "      <th>Revenue</th>\n",
       "      <th>Price Per Ticket</th>\n",
       "      <th>% used of tickets out</th>\n",
       "      <th>Temperature in F</th>\n",
       "    </tr>\n",
       "  </thead>\n",
       "  <tbody>\n",
       "    <tr>\n",
       "      <th>Year</th>\n",
       "      <td>1.000000</td>\n",
       "      <td>0.859621</td>\n",
       "      <td>0.247753</td>\n",
       "      <td>0.438504</td>\n",
       "      <td>0.099512</td>\n",
       "      <td>-0.261516</td>\n",
       "      <td>0.152952</td>\n",
       "    </tr>\n",
       "    <tr>\n",
       "      <th>Box Office Total</th>\n",
       "      <td>0.859621</td>\n",
       "      <td>1.000000</td>\n",
       "      <td>0.490488</td>\n",
       "      <td>0.615852</td>\n",
       "      <td>0.120194</td>\n",
       "      <td>-0.100302</td>\n",
       "      <td>0.187444</td>\n",
       "    </tr>\n",
       "    <tr>\n",
       "      <th>Actual Scan Total</th>\n",
       "      <td>0.247753</td>\n",
       "      <td>0.490488</td>\n",
       "      <td>1.000000</td>\n",
       "      <td>0.746304</td>\n",
       "      <td>-0.252016</td>\n",
       "      <td>0.764648</td>\n",
       "      <td>0.257130</td>\n",
       "    </tr>\n",
       "    <tr>\n",
       "      <th>Revenue</th>\n",
       "      <td>0.438504</td>\n",
       "      <td>0.615852</td>\n",
       "      <td>0.746304</td>\n",
       "      <td>1.000000</td>\n",
       "      <td>0.274193</td>\n",
       "      <td>0.391420</td>\n",
       "      <td>0.315895</td>\n",
       "    </tr>\n",
       "    <tr>\n",
       "      <th>Price Per Ticket</th>\n",
       "      <td>0.099512</td>\n",
       "      <td>0.120194</td>\n",
       "      <td>-0.252016</td>\n",
       "      <td>0.274193</td>\n",
       "      <td>1.000000</td>\n",
       "      <td>-0.432774</td>\n",
       "      <td>-0.027079</td>\n",
       "    </tr>\n",
       "    <tr>\n",
       "      <th>% used of tickets out</th>\n",
       "      <td>-0.261516</td>\n",
       "      <td>-0.100302</td>\n",
       "      <td>0.764648</td>\n",
       "      <td>0.391420</td>\n",
       "      <td>-0.432774</td>\n",
       "      <td>1.000000</td>\n",
       "      <td>0.276983</td>\n",
       "    </tr>\n",
       "    <tr>\n",
       "      <th>Temperature in F</th>\n",
       "      <td>0.152952</td>\n",
       "      <td>0.187444</td>\n",
       "      <td>0.257130</td>\n",
       "      <td>0.315895</td>\n",
       "      <td>-0.027079</td>\n",
       "      <td>0.276983</td>\n",
       "      <td>1.000000</td>\n",
       "    </tr>\n",
       "  </tbody>\n",
       "</table>\n",
       "</div>"
      ],
      "text/plain": [
       "                           Year  Box Office Total  Actual Scan Total  \\\n",
       "Year                   1.000000          0.859621           0.247753   \n",
       "Box Office Total       0.859621          1.000000           0.490488   \n",
       "Actual Scan Total      0.247753          0.490488           1.000000   \n",
       "Revenue                0.438504          0.615852           0.746304   \n",
       "Price Per Ticket       0.099512          0.120194          -0.252016   \n",
       "% used of tickets out -0.261516         -0.100302           0.764648   \n",
       "Temperature in F       0.152952          0.187444           0.257130   \n",
       "\n",
       "                        Revenue  Price Per Ticket  % used of tickets out  \\\n",
       "Year                   0.438504          0.099512              -0.261516   \n",
       "Box Office Total       0.615852          0.120194              -0.100302   \n",
       "Actual Scan Total      0.746304         -0.252016               0.764648   \n",
       "Revenue                1.000000          0.274193               0.391420   \n",
       "Price Per Ticket       0.274193          1.000000              -0.432774   \n",
       "% used of tickets out  0.391420         -0.432774               1.000000   \n",
       "Temperature in F       0.315895         -0.027079               0.276983   \n",
       "\n",
       "                       Temperature in F  \n",
       "Year                           0.152952  \n",
       "Box Office Total               0.187444  \n",
       "Actual Scan Total              0.257130  \n",
       "Revenue                        0.315895  \n",
       "Price Per Ticket              -0.027079  \n",
       "% used of tickets out          0.276983  \n",
       "Temperature in F               1.000000  "
      ]
     },
     "execution_count": 7,
     "metadata": {},
     "output_type": "execute_result"
    }
   ],
   "source": [
    "#to get the correlations between numerical columns\n",
    "\n",
    "df.corr()"
   ]
  },
  {
   "cell_type": "code",
   "execution_count": 8,
   "id": "fb2ad1ab-c465-4ef7-ab58-9cc94ce0fa5d",
   "metadata": {
    "tags": []
   },
   "outputs": [
    {
     "data": {
      "text/plain": [
       "Game Code                266\n",
       "Game                     155\n",
       "SEC                        2\n",
       "Year                       9\n",
       "Day                        9\n",
       "Date                     266\n",
       "Game Time                 23\n",
       "MSU Win?                   2\n",
       "Box Office Total         259\n",
       "Actual Scan Total        264\n",
       "Revenue                  264\n",
       "Price Per Ticket          43\n",
       "% used of tickets out    266\n",
       "Weather                    4\n",
       "Temperature in F          34\n",
       "dtype: int64"
      ]
     },
     "execution_count": 8,
     "metadata": {},
     "output_type": "execute_result"
    }
   ],
   "source": [
    "#unique() gives the count of unique values in each column\n",
    "\n",
    "df.nunique()"
   ]
  },
  {
   "cell_type": "code",
   "execution_count": 9,
   "id": "71938da8-d8c5-482d-8884-1661622ad29d",
   "metadata": {
    "tags": []
   },
   "outputs": [
    {
     "data": {
      "text/plain": [
       "Index(['Game Code', 'Game', 'SEC', 'Year', 'Day', 'Date', 'Game Time',\n",
       "       'MSU Win?', 'Box Office Total', 'Actual Scan Total', 'Revenue',\n",
       "       'Price Per Ticket', '% used of tickets out', 'Weather',\n",
       "       'Temperature in F'],\n",
       "      dtype='object')"
      ]
     },
     "execution_count": 9,
     "metadata": {},
     "output_type": "execute_result"
    }
   ],
   "source": [
    "df.columns"
   ]
  },
  {
   "cell_type": "code",
   "execution_count": 79,
   "id": "3010deb6-b830-45fb-bb20-0af12cd3f101",
   "metadata": {
    "tags": []
   },
   "outputs": [
    {
     "data": {
      "text/plain": [
       "No     138\n",
       "Yes    128\n",
       "Name: SEC, dtype: int64"
      ]
     },
     "execution_count": 79,
     "metadata": {},
     "output_type": "execute_result"
    }
   ],
   "source": [
    "#we can count the number of values of each category in a column\n",
    "\n",
    "df['SEC'].value_counts()"
   ]
  },
  {
   "cell_type": "code",
   "execution_count": 80,
   "id": "0d1eb4eb-cc50-4c05-b63e-d0b23641983d",
   "metadata": {
    "tags": []
   },
   "outputs": [
    {
     "data": {
      "text/plain": [
       "0    138\n",
       "1    128\n",
       "Name: SEC, dtype: int64"
      ]
     },
     "execution_count": 80,
     "metadata": {},
     "output_type": "execute_result"
    }
   ],
   "source": [
    "df['SEC'] = df['SEC'].map({\"Yes\":1, \"No\":0})\n",
    "\n",
    "df['SEC'].value_counts()"
   ]
  },
  {
   "cell_type": "code",
   "execution_count": 81,
   "id": "b203e603-1409-4d83-82ad-e4ca5c3745b9",
   "metadata": {
    "tags": []
   },
   "outputs": [
    {
     "data": {
      "text/plain": [
       "Friday       68\n",
       "Saturday     66\n",
       "Tuesday      38\n",
       "Sunday       33\n",
       "Wednesday    20\n",
       "Sunday       18\n",
       "Thursday     17\n",
       "Tuesday       5\n",
       "Monday        1\n",
       "Name: Day, dtype: int64"
      ]
     },
     "execution_count": 81,
     "metadata": {},
     "output_type": "execute_result"
    }
   ],
   "source": [
    "df['Day'].value_counts()"
   ]
  },
  {
   "cell_type": "code",
   "execution_count": 82,
   "id": "a6652334-e6c7-44a4-b32a-d5047bc266fd",
   "metadata": {
    "tags": []
   },
   "outputs": [
    {
     "data": {
      "text/plain": [
       "Index(['Friday', 'Saturday', 'Tuesday', 'Sunday', 'Wednesday', 'Sunday ',\n",
       "       'Thursday', 'Tuesday ', 'Monday'],\n",
       "      dtype='object')"
      ]
     },
     "execution_count": 82,
     "metadata": {},
     "output_type": "execute_result"
    }
   ],
   "source": [
    "df['Day'].value_counts().index\n",
    "\n",
    "#because of the empty space for the same days"
   ]
  },
  {
   "cell_type": "code",
   "execution_count": 83,
   "id": "81cddc0a-5b41-44a2-943b-a357c558dae2",
   "metadata": {
    "tags": []
   },
   "outputs": [
    {
     "data": {
      "text/plain": [
       "Friday       68\n",
       "Saturday     66\n",
       "Sunday       51\n",
       "Tuesday      43\n",
       "Wednesday    20\n",
       "Thursday     17\n",
       "Monday        1\n",
       "Name: Day, dtype: int64"
      ]
     },
     "execution_count": 83,
     "metadata": {},
     "output_type": "execute_result"
    }
   ],
   "source": [
    "df['Day'] = df['Day'].str.strip()\n",
    "\n",
    "df['Day'].value_counts()"
   ]
  },
  {
   "cell_type": "code",
   "execution_count": 19,
   "id": "6c06c989-9ae0-46ce-a4ec-eaacce9553d4",
   "metadata": {
    "tags": []
   },
   "outputs": [
    {
     "data": {
      "text/plain": [
       "SEC\n",
       "0    0.289265\n",
       "1    0.506847\n",
       "Name: % used of tickets out, dtype: float64"
      ]
     },
     "execution_count": 19,
     "metadata": {},
     "output_type": "execute_result"
    }
   ],
   "source": [
    "df.groupby('SEC')['% used of tickets out'].mean()"
   ]
  },
  {
   "cell_type": "markdown",
   "id": "0fee3125-0f4f-4deb-9dd2-512655060955",
   "metadata": {
    "jp-MarkdownHeadingCollapsed": true,
    "tags": []
   },
   "source": [
    "# Including Weather"
   ]
  },
  {
   "cell_type": "code",
   "execution_count": 143,
   "id": "bc6a5310-8ecd-4789-8eb6-6380791585e6",
   "metadata": {
    "tags": []
   },
   "outputs": [],
   "source": [
    "# both inputs and ouput should be a list\n",
    "\n",
    "def MLmodel(inputs, output, model):\n",
    "    \n",
    "    X = df[inputs]\n",
    "    y = df[output]\n",
    "    \n",
    "    X_train, X_test, y_train, y_test = train_test_split(X, y, test_size=0.2, random_state=42)\n",
    "    \n",
    "    categorical_features = X_train.select_dtypes(include=['object', 'category']).columns.tolist()\n",
    "        \n",
    "    model.fit(X_train, y_train, cat_features=categorical_features, verbose=100)\n",
    "    \n",
    "    return model, X_train, X_test, y_train, y_test\n",
    "    "
   ]
  },
  {
   "cell_type": "code",
   "execution_count": 144,
   "id": "d8d7d496-9a6f-4acb-98ee-8b1b1c462395",
   "metadata": {
    "tags": []
   },
   "outputs": [
    {
     "name": "stdout",
     "output_type": "stream",
     "text": [
      "0:\tlearn: 0.2137576\ttotal: 1.24ms\tremaining: 1.24s\n",
      "100:\tlearn: 0.1673068\ttotal: 63.4ms\tremaining: 564ms\n",
      "200:\tlearn: 0.1477541\ttotal: 106ms\tremaining: 423ms\n",
      "300:\tlearn: 0.1367629\ttotal: 148ms\tremaining: 344ms\n",
      "400:\tlearn: 0.1307754\ttotal: 190ms\tremaining: 284ms\n",
      "500:\tlearn: 0.1262095\ttotal: 232ms\tremaining: 231ms\n",
      "600:\tlearn: 0.1226081\ttotal: 277ms\tremaining: 184ms\n",
      "700:\tlearn: 0.1194197\ttotal: 317ms\tremaining: 135ms\n",
      "800:\tlearn: 0.1166835\ttotal: 360ms\tremaining: 89.5ms\n",
      "900:\tlearn: 0.1134619\ttotal: 406ms\tremaining: 44.6ms\n",
      "999:\tlearn: 0.1103785\ttotal: 456ms\tremaining: 0us\n"
     ]
    }
   ],
   "source": [
    "# Define inputs and output from the DataFrame\n",
    "\n",
    "inputs = ['Game', 'SEC', 'Day', 'Weather']\n",
    "output = ['% used of tickets out']\n",
    "\n",
    "model = CatBoostRegressor(random_seed=42, logging_level='Verbose', learning_rate=0.01)\n",
    "\n",
    "trained_model, X_train, X_test, y_train, y_test = MLmodel(inputs, output, model)\n"
   ]
  },
  {
   "cell_type": "code",
   "execution_count": 145,
   "id": "c01f8c3c-401d-4f41-9946-6f3d5caffef0",
   "metadata": {
    "tags": []
   },
   "outputs": [
    {
     "name": "stdout",
     "output_type": "stream",
     "text": [
      "training rmse :  0.014542622244502805\n",
      "testing rmse :  0.022236523347531963\n"
     ]
    }
   ],
   "source": [
    "y_pred_train = trained_model.predict(X_train)\n",
    "\n",
    "print('training rmse : ', mean_squared_error(y_train, y_pred_train))\n",
    "\n",
    "y_pred_test = trained_model.predict(X_test)\n",
    "\n",
    "print('testing rmse : ', mean_squared_error(y_test, y_pred_test))\n"
   ]
  },
  {
   "cell_type": "code",
   "execution_count": 146,
   "id": "20723d4d-b735-41bf-aab9-a3f58e51fc53",
   "metadata": {
    "tags": []
   },
   "outputs": [
    {
     "name": "stdout",
     "output_type": "stream",
     "text": [
      "Game: 26.093843479162793\n",
      "SEC: 23.222758583264003\n",
      "Day: 31.77901711457397\n",
      "Weather: 18.904380822999226\n"
     ]
    },
    {
     "data": {
      "image/png": "[encoded data removed]",
      "text/plain": [
       "<Figure size 800x500 with 1 Axes>"
      ]
     },
     "metadata": {},
     "output_type": "display_data"
    }
   ],
   "source": [
    "feature_importance = trained_model.get_feature_importance()\n",
    "\n",
    "for feature, importance in zip(X_train.columns, feature_importance):\n",
    "    print(f'{feature}: {importance}')\n",
    "    \n",
    "features = X_train.columns.tolist()\n",
    "importance_scores = feature_importance.tolist()\n",
    "\n",
    "plt.figure(figsize=(8, 5))\n",
    "plt.barh(features, importance_scores, color='maroon')\n",
    "plt.xlabel('Importance Score')\n",
    "plt.title('Feature Importance from model')\n",
    "\n",
    "plt.tight_layout()\n",
    "plt.show()"
   ]
  },
  {
   "cell_type": "code",
   "execution_count": 147,
   "id": "10348fae-a2d7-4ae5-a00b-69591c11bff1",
   "metadata": {
    "tags": []
   },
   "outputs": [
    {
     "data": {
      "image/png": "[encoded data removed]",
      "text/plain": [
       "<Figure size 800x400 with 2 Axes>"
      ]
     },
     "metadata": {},
     "output_type": "display_data"
    }
   ],
   "source": [
    "\n",
    "plt.figure(figsize=(8, 4))\n",
    "\n",
    "# First graph: y_train vs y_pred_train\n",
    "plt.subplot(1, 2, 1)\n",
    "plt.scatter(y_train, y_pred_train, color='maroon', alpha=0.6)\n",
    "plt.xlabel('Actual Values (y_train)')\n",
    "plt.ylabel('Predicted Values (y_pred_train)')\n",
    "plt.title('Actual vs Predicted - Training Data')\n",
    "\n",
    "plt.xlim(0, 1)\n",
    "plt.ylim(0, 1)\n",
    "plt.xticks(np.arange(0, 1.1, 0.1))\n",
    "plt.yticks(np.arange(0, 1.1, 0.1))\n",
    "\n",
    "# Second graph: y_test vs y_pred_test\n",
    "plt.subplot(1, 2, 2)\n",
    "plt.scatter(y_test, y_pred_test, color='black', alpha=0.6)\n",
    "plt.xlabel('Actual Values (y_test)')\n",
    "plt.ylabel('Predicted Values (y_pred_test)')\n",
    "plt.title('Actual vs Predicted - Test Data')\n",
    "\n",
    "plt.xlim(0, 1)\n",
    "plt.ylim(0, 1)\n",
    "plt.xticks(np.arange(0, 1.1, 0.1))\n",
    "plt.yticks(np.arange(0, 1.1, 0.1))\n",
    "\n",
    "# Display both plots\n",
    "plt.tight_layout()\n",
    "plt.show()\n"
   ]
  },
  {
   "cell_type": "code",
   "execution_count": 148,
   "id": "fdfa62c6-1008-4a7c-9deb-2bcb0d683b67",
   "metadata": {
    "tags": []
   },
   "outputs": [
    {
     "name": "stdout",
     "output_type": "stream",
     "text": [
      "Game       Grambling\n",
      "SEC                0\n",
      "Day          Tuesday\n",
      "Weather       Cloudy\n",
      "Name: 181, dtype: object\n",
      "-----------------------------\n",
      "predcited value for this row : 0.1677708810917673\n"
     ]
    }
   ],
   "source": [
    "# dowloading the model as a pickle file\n",
    "with open('BbP_model_w.pkl', 'wb') as file:\n",
    "    pickle.dump(trained_model, file)\n",
    "    \n",
    "# loading the pickle file\n",
    "with open('BbP_model_w.pkl', 'rb') as file:\n",
    "    loaded_model = pickle.load(file)\n",
    "    \n",
    "# making predictions using the pickle file\n",
    "z = X_test.iloc[0]\n",
    "print(z)\n",
    "print('-----------------------------')\n",
    "print('predcited value for this row :', loaded_model.predict(z))"
   ]
  },
  {
   "cell_type": "markdown",
   "id": "5d704cd2-f9c8-497f-8df5-d547d8c3466f",
   "metadata": {
    "jp-MarkdownHeadingCollapsed": true,
    "tags": []
   },
   "source": [
    "# Without weather"
   ]
  },
  {
   "cell_type": "code",
   "execution_count": 137,
   "id": "6b014bcb-32ee-41cd-bb5c-91f515e9111e",
   "metadata": {
    "tags": []
   },
   "outputs": [],
   "source": [
    "# both inputs and ouput should be a list\n",
    "\n",
    "def MLmodel(inputs, output, model):\n",
    "    \n",
    "    X = df[inputs] \n",
    "    y = df[output]\n",
    "    \n",
    "    X_train, X_test, y_train, y_test = train_test_split(X, y, test_size=0.2, random_state=42)\n",
    "    \n",
    "    categorical_features = X_train.select_dtypes(include=['object', 'category']).columns.tolist()\n",
    "        \n",
    "    model.fit(X_train, y_train, cat_features=categorical_features, verbose=100)\n",
    "    \n",
    "    return model, X_train, X_test, y_train, y_test\n",
    "    "
   ]
  },
  {
   "cell_type": "code",
   "execution_count": 138,
   "id": "d1ee3aca-f3b6-4b0e-9edb-53e141df8f6a",
   "metadata": {
    "tags": []
   },
   "outputs": [
    {
     "name": "stdout",
     "output_type": "stream",
     "text": [
      "0:\tlearn: 0.2105695\ttotal: 2.33ms\tremaining: 2.32s\n",
      "100:\tlearn: 0.1354085\ttotal: 50.5ms\tremaining: 450ms\n",
      "200:\tlearn: 0.1222533\ttotal: 86.8ms\tremaining: 345ms\n",
      "300:\tlearn: 0.1138612\ttotal: 126ms\tremaining: 292ms\n",
      "400:\tlearn: 0.1066362\ttotal: 166ms\tremaining: 249ms\n",
      "500:\tlearn: 0.1011822\ttotal: 203ms\tremaining: 202ms\n",
      "600:\tlearn: 0.0965532\ttotal: 241ms\tremaining: 160ms\n",
      "700:\tlearn: 0.0929357\ttotal: 277ms\tremaining: 118ms\n",
      "800:\tlearn: 0.0902743\ttotal: 314ms\tremaining: 78.1ms\n",
      "900:\tlearn: 0.0876888\ttotal: 351ms\tremaining: 38.5ms\n",
      "999:\tlearn: 0.0856604\ttotal: 387ms\tremaining: 0us\n"
     ]
    }
   ],
   "source": [
    "# Define inputs and output from the DataFrame\n",
    "\n",
    "inputs = ['Game', 'SEC', 'Day']\n",
    "output = ['% used of tickets out']\n",
    "\n",
    "model = CatBoostRegressor(random_seed=42, logging_level='Verbose', learning_rate=0.05)\n",
    "\n",
    "trained_model, X_train, X_test, y_train, y_test = MLmodel(inputs, output, model)"
   ]
  },
  {
   "cell_type": "code",
   "execution_count": 139,
   "id": "f6372045-42ee-4d74-803d-627c41bc6c16",
   "metadata": {
    "tags": []
   },
   "outputs": [
    {
     "name": "stdout",
     "output_type": "stream",
     "text": [
      "training rmse :  0.018240276844051044\n",
      "testing rmse :  0.024023095617016193\n"
     ]
    }
   ],
   "source": [
    "y_pred_train = trained_model.predict(X_train)\n",
    "\n",
    "print('training rmse : ', mean_squared_error(y_train, y_pred_train))\n",
    "\n",
    "y_pred_test = trained_model.predict(X_test)\n",
    "\n",
    "print('testing rmse : ', mean_squared_error(y_test, y_pred_test))\n"
   ]
  },
  {
   "cell_type": "code",
   "execution_count": 140,
   "id": "4342f041-d2f7-473b-8fde-fccd563f65e7",
   "metadata": {
    "tags": []
   },
   "outputs": [
    {
     "name": "stdout",
     "output_type": "stream",
     "text": [
      "Game: 33.086914415164244\n",
      "SEC: 26.236224138298205\n",
      "Day: 40.67686144653754\n"
     ]
    },
    {
     "data": {
      "image/png": "[encoded data removed]",
      "text/plain": [
       "<Figure size 800x500 with 1 Axes>"
      ]
     },
     "metadata": {},
     "output_type": "display_data"
    }
   ],
   "source": [
    "feature_importance = trained_model.get_feature_importance()\n",
    "\n",
    "for feature, importance in zip(X_train.columns, feature_importance):\n",
    "    print(f'{feature}: {importance}')\n",
    "    \n",
    "features = X_train.columns.tolist()\n",
    "importance_scores = feature_importance.tolist()\n",
    "\n",
    "plt.figure(figsize=(8, 5))\n",
    "plt.barh(features, importance_scores, color='maroon')\n",
    "plt.xlabel('Importance Score')\n",
    "plt.title('Feature Importance from model')\n",
    "\n",
    "plt.tight_layout()\n",
    "plt.show()"
   ]
  },
  {
   "cell_type": "code",
   "execution_count": 141,
   "id": "62f9a0bf-4368-4874-ac9a-d942bc08641c",
   "metadata": {
    "tags": []
   },
   "outputs": [
    {
     "data": {
      "image/png": "[encoded data removed]",
      "text/plain": [
       "<Figure size 800x400 with 2 Axes>"
      ]
     },
     "metadata": {},
     "output_type": "display_data"
    }
   ],
   "source": [
    "\n",
    "plt.figure(figsize=(8, 4))\n",
    "\n",
    "# First graph: y_train vs y_pred_train\n",
    "plt.subplot(1, 2, 1)\n",
    "plt.scatter(y_train, y_pred_train, color='maroon', alpha=0.6)\n",
    "plt.xlabel('Actual Values (y_train)')\n",
    "plt.ylabel('Predicted Values (y_pred_train)')\n",
    "plt.title('Actual vs Predicted - Training Data')\n",
    "\n",
    "plt.xlim(0, 1)\n",
    "plt.ylim(0, 1)\n",
    "plt.xticks(np.arange(0, 1.1, 0.1))\n",
    "plt.yticks(np.arange(0, 1.1, 0.1))\n",
    "\n",
    "# Second graph: y_test vs y_pred_test\n",
    "plt.subplot(1, 2, 2)\n",
    "plt.scatter(y_test, y_pred_test, color='black', alpha=0.6)\n",
    "plt.xlabel('Actual Values (y_test)')\n",
    "plt.ylabel('Predicted Values (y_pred_test)')\n",
    "plt.title('Actual vs Predicted - Test Data')\n",
    "\n",
    "plt.xlim(0, 1)\n",
    "plt.ylim(0, 1)\n",
    "plt.xticks(np.arange(0, 1.1, 0.1))\n",
    "plt.yticks(np.arange(0, 1.1, 0.1))\n",
    "\n",
    "# Display both plots\n",
    "plt.tight_layout()\n",
    "plt.show()\n"
   ]
  },
  {
   "cell_type": "code",
   "execution_count": 142,
   "id": "1c3b5ab0-f04f-4d80-b331-485d0c24c346",
   "metadata": {
    "tags": []
   },
   "outputs": [
    {
     "name": "stdout",
     "output_type": "stream",
     "text": [
      "Game    Grambling\n",
      "SEC             0\n",
      "Day       Tuesday\n",
      "Name: 181, dtype: object\n",
      "-----------------------------\n",
      "predcited value for this row : 0.18761276210248737\n"
     ]
    }
   ],
   "source": [
    "# dowloading the model as a pickle file\n",
    "with open('BbP_model.pkl', 'wb') as file:\n",
    "    pickle.dump(trained_model, file)\n",
    "    \n",
    "# loading the pickle file\n",
    "with open('BbP_model.pkl', 'rb') as file:\n",
    "    loaded_model = pickle.load(file)\n",
    "    \n",
    "# making predictions using the pickle file\n",
    "z = X_test.iloc[0]\n",
    "print(z)\n",
    "print('-----------------------------')\n",
    "print('predcited value for this row :', loaded_model.predict(z))"
   ]
  },
  {
   "cell_type": "markdown",
   "id": "d10dbd84-42da-4619-9e71-a3599849ab84",
   "metadata": {
    "tags": []
   },
   "source": [
    "# Additional code"
   ]
  },
  {
   "cell_type": "code",
   "execution_count": null,
   "id": "e3659e96-8c8a-4eac-8ac9-37cb62255ee8",
   "metadata": {},
   "outputs": [],
   "source": []
  }
 ],
 "metadata": {
  "kernelspec": {
   "display_name": "Python 3 (ipykernel)",
   "language": "python",
   "name": "python3"
  },
  "language_info": {
   "codemirror_mode": {
    "name": "ipython",
    "version": 3
   },
   "file_extension": ".py",
   "mimetype": "text/x-python",
   "name": "python",
   "nbconvert_exporter": "python",
   "pygments_lexer": "ipython3",
   "version": "3.11.4"
  }
 },
 "nbformat": 4,
 "nbformat_minor": 5
}
